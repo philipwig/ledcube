{
 "cells": [
  {
   "cell_type": "markdown",
   "metadata": {},
   "source": [
    "# Optimizing Display Calculations"
   ]
  },
  {
   "cell_type": "markdown",
   "metadata": {},
   "source": [
    "This is a notebook containing the measurements to show the differences between two different methods of calculating the light efficiency and refresh rate of an led panel. This calculation is necessary becuase it allows the designer of the sytem that the led panel will be used in to optimize the tradoffs between the color depth, refresh rate, and light ouptut of the led panel used"
   ]
  },
  {
   "cell_type": "code",
   "execution_count": 1,
   "metadata": {
    "executionInfo": {
     "elapsed": 106,
     "status": "ok",
     "timestamp": 1628275025310,
     "user": {
      "displayName": "Philip Wig",
      "photoUrl": "",
      "userId": "07445635382803220768"
     },
     "user_tz": 300
    },
    "id": "k-4qe2YnXP5v"
   },
   "outputs": [],
   "source": [
    "import pandas as pd\n",
    "import numpy as np"
   ]
  },
  {
   "cell_type": "markdown",
   "metadata": {},
   "source": [
    "# Testing Speed of PanelConfig Class"
   ]
  },
  {
   "cell_type": "markdown",
   "metadata": {},
   "source": [
    "Below is the code for the PanelConfig class which was written by Sylvain Munaut as part of the no2hub75 LED panel driver written for the Icebreaker FPGA Dev Board which was created by Esden. Checkout the no2hub repository here -> https://github.com/no2fpga/no2hub75"
   ]
  },
  {
   "cell_type": "code",
   "execution_count": 2,
   "metadata": {
    "executionInfo": {
     "elapsed": 155,
     "status": "ok",
     "timestamp": 1628278868781,
     "user": {
      "displayName": "Philip Wig",
      "photoUrl": "",
      "userId": "07445635382803220768"
     },
     "user_tz": 300
    },
    "id": "sPCDNJ0p2ZcS"
   },
   "outputs": [],
   "source": [
    "OVERHEAD = 5\t# Guesstimated\n",
    "\n",
    "class PanelConfig(object):\n",
    "\n",
    "\tdef __init__(self, **kwargs):\n",
    "\t\tparams = [\n",
    "\t\t\t'freq',\t\t\t\t# Clock frequency in Hz\n",
    "\t\t\t'n_banks',\t\t\t# Number of banks\n",
    "\t\t\t'n_rows',\t\t\t# Number of rows\n",
    "\t\t\t'n_cols',\t\t\t# Number of columns\n",
    "\t\t\t'n_planes',\t\t\t# Number of bitplanes in BCM modulation\n",
    "\t\t\t'bcm_lsb_len',\t\t# Duration of the LSB of BCM modulation (in clk cycles)\n",
    "\t\t]\n",
    "\n",
    "\t\tfor x in params:\n",
    "\t\t\tsetattr(self, x, kwargs.pop(x))\n",
    "\n",
    "\t\tself._sim()\n",
    "\n",
    "\tdef _sim(self):\n",
    "\t\t# Init\n",
    "\t\tcyc_tot = 0\n",
    "\t\tcyc_on  = 0\n",
    "\n",
    "\t\t# Scan all place\n",
    "\t\tfor plane in range(self.n_planes):\n",
    "\t\t\t# Length of the plane in clock cycle\n",
    "\t\t\tlen_show = (self.bcm_lsb_len * 2**plane) #/ 2\n",
    "\n",
    "\t\t\t# Length required to do data shift for the next plane\n",
    "\t\t\tlen_shift = self.n_cols\n",
    "\n",
    "\t\t\t# Length of this cycle is the max\n",
    "\t\t\tlen_plane = max(len_show, len_shift) + OVERHEAD\n",
    "\n",
    "\t\t\t# Accumulate\n",
    "\t\t\tcyc_tot += len_plane\n",
    "\t\t\tcyc_on  += len_show\n",
    "\n",
    "\t\t# Compute results\n",
    "\t\tself._light_efficiency = 1.0 * cyc_on / cyc_tot\n",
    "\t\tself._refresh_rate = self.freq / (self.n_rows * cyc_tot)\n",
    "\n",
    "\t@property\n",
    "\tdef light_efficiency(self):\n",
    "\t\treturn self._light_efficiency\n",
    "\n",
    "\t@property\n",
    "\tdef refresh_rate(self):\n",
    "\t\treturn self._refresh_rate"
   ]
  },
  {
   "cell_type": "markdown",
   "metadata": {},
   "source": [
    "Below are constants that will be used to define the parameters used in the calcualtions"
   ]
  },
  {
   "cell_type": "code",
   "execution_count": 3,
   "metadata": {
    "colab": {
     "base_uri": "https://localhost:8080/"
    },
    "executionInfo": {
     "elapsed": 121,
     "status": "ok",
     "timestamp": 1628278968749,
     "user": {
      "displayName": "Philip Wig",
      "photoUrl": "",
      "userId": "07445635382803220768"
     },
     "user_tz": 300
    },
    "id": "FA_AYisz2azf",
    "outputId": "a55fe4d3-1152-47ab-e0c1-e3f34a6d35ff"
   },
   "outputs": [],
   "source": [
    "freq_min = 25000000\n",
    "freq_max = 25000000\n",
    "\n",
    "n_banks_min = 2\n",
    "n_banks_max = 2\n",
    "\n",
    "n_rows_min = 32\n",
    "n_rows_max = 32\n",
    "\n",
    "n_cols_min = 32\n",
    "n_cols_max = 32\n",
    "\n",
    "n_planes_min = 8\n",
    "n_planes_max = 8\n",
    "\n",
    "bcm_lsb_len_min = 0\n",
    "bcm_lsb_len_max = 20"
   ]
  },
  {
   "cell_type": "markdown",
   "metadata": {},
   "source": [
    "### Using lists to store results"
   ]
  },
  {
   "cell_type": "code",
   "execution_count": 4,
   "metadata": {},
   "outputs": [
    {
     "name": "stdout",
     "output_type": "stream",
     "text": [
      "153 µs ± 1.2 µs per loop (mean ± std. dev. of 7 runs, 10000 loops each)\n"
     ]
    }
   ],
   "source": [
    "%%timeit\n",
    "results = []\n",
    "\n",
    "# print(results)\n",
    "for freq in range(freq_min, freq_max + 1):\n",
    "  for n_banks in range(n_banks_min, n_banks_max + 1):\n",
    "    for n_rows in range(n_rows_min, n_rows_max + 1):\n",
    "      for n_cols in range(n_cols_min, n_cols_max + 1):\n",
    "        for n_planes in range(n_planes_min, n_planes_max + 1):\n",
    "          for bcm_lsb_len in range(bcm_lsb_len_min, bcm_lsb_len_max + 1):\n",
    "            pc = PanelConfig(\n",
    "                freq = freq,\n",
    "                n_banks = n_banks,\n",
    "                n_rows = n_rows,\n",
    "                n_cols = n_cols,\n",
    "                n_planes = n_planes,\n",
    "                bcm_lsb_len = bcm_lsb_len\n",
    "            )\n",
    "            results.append([freq, n_banks, n_rows, n_cols, n_planes, bcm_lsb_len, pc.light_efficiency * 100, pc.refresh_rate])"
   ]
  },
  {
   "cell_type": "markdown",
   "metadata": {},
   "source": [
    "### Using Numpy to store results"
   ]
  },
  {
   "cell_type": "markdown",
   "metadata": {},
   "source": [
    "Numpy using int array"
   ]
  },
  {
   "cell_type": "code",
   "execution_count": 5,
   "metadata": {
    "colab": {
     "base_uri": "https://localhost:8080/",
     "height": 637
    },
    "executionInfo": {
     "elapsed": 1806734,
     "status": "error",
     "timestamp": 1628274661464,
     "user": {
      "displayName": "Philip Wig",
      "photoUrl": "",
      "userId": "07445635382803220768"
     },
     "user_tz": 300
    },
    "id": "uhFeugZCWgyT",
    "outputId": "214a7c00-b418-4d36-d966-76f443a02591"
   },
   "outputs": [
    {
     "name": "stdout",
     "output_type": "stream",
     "text": [
      "182 µs ± 811 ns per loop (mean ± std. dev. of 7 runs, 10000 loops each)\n"
     ]
    }
   ],
   "source": [
    "%%timeit\n",
    "i = 0\n",
    "results_array = np.zeros([(freq_max - freq_min + 1) * \n",
    "                    (n_banks_max - n_banks_min + 1) * \n",
    "                    (n_rows_max - n_rows_min + 1) * \n",
    "                    (n_cols_max - n_cols_min + 1) * \n",
    "                    (n_planes_max - n_planes_min + 1) * \n",
    "                    (bcm_lsb_len_max - bcm_lsb_len_min + 1), 8],\n",
    "                  dtype= np.int64)\n",
    "# print(results)\n",
    "for freq in range(freq_min, freq_max + 1):\n",
    "  for n_banks in range(n_banks_min, n_banks_max + 1):\n",
    "    for n_rows in range(n_rows_min, n_rows_max + 1):\n",
    "      for n_cols in range(n_cols_min, n_cols_max + 1):\n",
    "        for n_planes in range(n_planes_min, n_planes_max + 1):\n",
    "          for bcm_lsb_len in range(bcm_lsb_len_min, bcm_lsb_len_max + 1):\n",
    "            pc = PanelConfig(\n",
    "                freq = freq,\n",
    "                n_banks = n_banks,\n",
    "                n_rows = n_rows,\n",
    "                n_cols = n_cols,\n",
    "                n_planes = n_planes,\n",
    "                bcm_lsb_len = bcm_lsb_len\n",
    "            )\n",
    "            results_array[i] = [freq, n_banks, n_rows, n_cols, n_planes, bcm_lsb_len, pc.light_efficiency * 100, pc.refresh_rate]\n",
    "            i += 1"
   ]
  },
  {
   "cell_type": "markdown",
   "metadata": {},
   "source": [
    "Numpy using float array"
   ]
  },
  {
   "cell_type": "code",
   "execution_count": 6,
   "metadata": {},
   "outputs": [
    {
     "name": "stdout",
     "output_type": "stream",
     "text": [
      "181 µs ± 1.23 µs per loop (mean ± std. dev. of 7 runs, 10000 loops each)\n"
     ]
    }
   ],
   "source": [
    "%%timeit\n",
    "i = 0\n",
    "results_array = np.zeros([(freq_max - freq_min + 1) * \n",
    "                    (n_banks_max - n_banks_min + 1) * \n",
    "                    (n_rows_max - n_rows_min + 1) * \n",
    "                    (n_cols_max - n_cols_min + 1) * \n",
    "                    (n_planes_max - n_planes_min + 1) * \n",
    "                    (bcm_lsb_len_max - bcm_lsb_len_min + 1), 8],\n",
    "                  dtype= np.float64)\n",
    "# print(results)\n",
    "for freq in range(freq_min, freq_max + 1):\n",
    "  for n_banks in range(n_banks_min, n_banks_max + 1):\n",
    "    for n_rows in range(n_rows_min, n_rows_max + 1):\n",
    "      for n_cols in range(n_cols_min, n_cols_max + 1):\n",
    "        for n_planes in range(n_planes_min, n_planes_max + 1):\n",
    "          for bcm_lsb_len in range(bcm_lsb_len_min, bcm_lsb_len_max + 1):\n",
    "            pc = PanelConfig(\n",
    "                freq = freq,\n",
    "                n_banks = n_banks,\n",
    "                n_rows = n_rows,\n",
    "                n_cols = n_cols,\n",
    "                n_planes = n_planes,\n",
    "                bcm_lsb_len = bcm_lsb_len\n",
    "            )\n",
    "            results_array[i] = [freq, n_banks, n_rows, n_cols, n_planes, bcm_lsb_len, pc.light_efficiency * 100, pc.refresh_rate]\n",
    "            i += 1"
   ]
  },
  {
   "cell_type": "markdown",
   "metadata": {},
   "source": [
    "## Converting lists to arrays and pandas dataframes"
   ]
  },
  {
   "cell_type": "code",
   "execution_count": 7,
   "metadata": {},
   "outputs": [],
   "source": [
    "results = []\n",
    "i = 0\n",
    "results_array = np.zeros([(freq_max - freq_min + 1) * \n",
    "                    (n_banks_max - n_banks_min + 1) * \n",
    "                    (n_rows_max - n_rows_min + 1) * \n",
    "                    (n_cols_max - n_cols_min + 1) * \n",
    "                    (n_planes_max - n_planes_min + 1) * \n",
    "                    (bcm_lsb_len_max - bcm_lsb_len_min + 1), 8],\n",
    "                  dtype= np.float64)\n",
    "\n",
    "# print(results)\n",
    "for freq in range(freq_min, freq_max + 1):\n",
    "  for n_banks in range(n_banks_min, n_banks_max + 1):\n",
    "    for n_rows in range(n_rows_min, n_rows_max + 1):\n",
    "      for n_cols in range(n_cols_min, n_cols_max + 1):\n",
    "        for n_planes in range(n_planes_min, n_planes_max + 1):\n",
    "          for bcm_lsb_len in range(bcm_lsb_len_min, bcm_lsb_len_max + 1):\n",
    "            pc = PanelConfig(\n",
    "                freq = freq,\n",
    "                n_banks = n_banks,\n",
    "                n_rows = n_rows,\n",
    "                n_cols = n_cols,\n",
    "                n_planes = n_planes,\n",
    "                bcm_lsb_len = bcm_lsb_len\n",
    "            )\n",
    "            results.append([freq, n_banks, n_rows, n_cols, n_planes, bcm_lsb_len, pc.light_efficiency * 100, pc.refresh_rate])\n",
    "            results_array[i] = [freq, n_banks, n_rows, n_cols, n_planes, bcm_lsb_len, pc.light_efficiency * 100, pc.refresh_rate]\n",
    "            i += 1"
   ]
  },
  {
   "cell_type": "markdown",
   "metadata": {},
   "source": [
    "List to numpy array"
   ]
  },
  {
   "cell_type": "code",
   "execution_count": 8,
   "metadata": {},
   "outputs": [
    {
     "name": "stdout",
     "output_type": "stream",
     "text": [
      "23.1 µs ± 375 ns per loop (mean ± std. dev. of 7 runs, 10000 loops each)\n"
     ]
    }
   ],
   "source": [
    "%%timeit\n",
    "results_array = np.array(results)"
   ]
  },
  {
   "cell_type": "markdown",
   "metadata": {},
   "source": [
    "List to pandas DataFrame"
   ]
  },
  {
   "cell_type": "code",
   "execution_count": 9,
   "metadata": {},
   "outputs": [
    {
     "name": "stdout",
     "output_type": "stream",
     "text": [
      "666 µs ± 19.1 µs per loop (mean ± std. dev. of 7 runs, 1000 loops each)\n"
     ]
    }
   ],
   "source": [
    "%%timeit\n",
    "df = pd.DataFrame(results, columns = ['freq', 'n_banks', 'n_rows', 'n_cols', 'n_planes', 'bcm_lsb_len', 'light_efficiency', 'refresh_rate'])"
   ]
  },
  {
   "cell_type": "markdown",
   "metadata": {},
   "source": [
    "Numpy array to pandas DataFrame"
   ]
  },
  {
   "cell_type": "code",
   "execution_count": 10,
   "metadata": {},
   "outputs": [
    {
     "name": "stdout",
     "output_type": "stream",
     "text": [
      "121 µs ± 1.73 µs per loop (mean ± std. dev. of 7 runs, 10000 loops each)\n"
     ]
    }
   ],
   "source": [
    "%%timeit\n",
    "df2 = pd.DataFrame(results_array, columns = ['freq', 'n_banks', 'n_rows', 'n_cols', 'n_planes', 'bcm_lsb_len', 'light_efficiency', 'refresh_rate'])"
   ]
  },
  {
   "cell_type": "markdown",
   "metadata": {},
   "source": [
    "# Testing speed of summation equation"
   ]
  },
  {
   "cell_type": "markdown",
   "metadata": {},
   "source": [
    "### Using lists to store results"
   ]
  },
  {
   "cell_type": "code",
   "execution_count": 11,
   "metadata": {},
   "outputs": [
    {
     "name": "stdout",
     "output_type": "stream",
     "text": [
      "94.2 µs ± 1.92 µs per loop (mean ± std. dev. of 7 runs, 10000 loops each)\n"
     ]
    }
   ],
   "source": [
    "%%timeit\n",
    "results = []\n",
    "\n",
    "# print(results)\n",
    "for freq in range(freq_min, freq_max + 1):\n",
    "  for n_banks in range(n_banks_min, n_banks_max + 1):\n",
    "    for n_rows in range(n_rows_min, n_rows_max + 1):\n",
    "      for n_cols in range(n_cols_min, n_cols_max + 1):\n",
    "        for n_planes in range(n_planes_min, n_planes_max + 1):\n",
    "          for bcm_lsb_len in range(bcm_lsb_len_min, bcm_lsb_len_max + 1):\n",
    "            bcm = n_rows * sum((bcm_lsb_len << i) for i in range(0, n_planes))\n",
    "            total = n_rows * sum( (max(bcm_lsb_len << i, n_cols) + 5) for i in range(0, n_planes))\n",
    "            results.append([freq, n_banks, n_rows, n_cols, n_planes, bcm_lsb_len, bcm / total * 100, freq / total])"
   ]
  },
  {
   "cell_type": "code",
   "execution_count": 12,
   "metadata": {},
   "outputs": [
    {
     "name": "stdout",
     "output_type": "stream",
     "text": [
      "72.2 µs ± 1.49 µs per loop (mean ± std. dev. of 7 runs, 10000 loops each)\n"
     ]
    }
   ],
   "source": [
    "%%timeit\n",
    "results = []\n",
    "\n",
    "# print(results)\n",
    "for freq in range(freq_min, freq_max + 1):\n",
    "  for n_banks in range(n_banks_min, n_banks_max + 1):\n",
    "    for n_rows in range(n_rows_min, n_rows_max + 1):\n",
    "      for n_cols in range(n_cols_min, n_cols_max + 1):\n",
    "        for n_planes in range(n_planes_min, n_planes_max + 1):\n",
    "          for bcm_lsb_len in range(bcm_lsb_len_min, bcm_lsb_len_max + 1):\n",
    "            bcm = n_rows * (5 * n_planes + bcm_lsb_len * (2 ** bcm_lsb_len - 1)) # Closed form of summation\n",
    "            total = n_rows * sum( (max(bcm_lsb_len << i, n_cols) + 5) for i in range(0, n_planes))\n",
    "            results.append([freq, n_banks, n_rows, n_cols, n_planes, bcm_lsb_len, bcm / total * 100, freq / total])"
   ]
  },
  {
   "cell_type": "markdown",
   "metadata": {},
   "source": [
    "### Using Numpy to store results"
   ]
  },
  {
   "cell_type": "markdown",
   "metadata": {},
   "source": [
    "Numpy using int array"
   ]
  },
  {
   "cell_type": "code",
   "execution_count": 13,
   "metadata": {
    "colab": {
     "base_uri": "https://localhost:8080/",
     "height": 637
    },
    "executionInfo": {
     "elapsed": 1806734,
     "status": "error",
     "timestamp": 1628274661464,
     "user": {
      "displayName": "Philip Wig",
      "photoUrl": "",
      "userId": "07445635382803220768"
     },
     "user_tz": 300
    },
    "id": "uhFeugZCWgyT",
    "outputId": "214a7c00-b418-4d36-d966-76f443a02591"
   },
   "outputs": [
    {
     "name": "stdout",
     "output_type": "stream",
     "text": [
      "120 µs ± 938 ns per loop (mean ± std. dev. of 7 runs, 10000 loops each)\n"
     ]
    }
   ],
   "source": [
    "%%timeit\n",
    "i = 0\n",
    "results_array = np.zeros([(freq_max - freq_min + 1) * \n",
    "                    (n_banks_max - n_banks_min + 1) * \n",
    "                    (n_rows_max - n_rows_min + 1) * \n",
    "                    (n_cols_max - n_cols_min + 1) * \n",
    "                    (n_planes_max - n_planes_min + 1) * \n",
    "                    (bcm_lsb_len_max - bcm_lsb_len_min + 1), 8],\n",
    "                  dtype= np.int64)\n",
    "# print(results)\n",
    "for freq in range(freq_min, freq_max + 1):\n",
    "  for n_banks in range(n_banks_min, n_banks_max + 1):\n",
    "    for n_rows in range(n_rows_min, n_rows_max + 1):\n",
    "      for n_cols in range(n_cols_min, n_cols_max + 1):\n",
    "        for n_planes in range(n_planes_min, n_planes_max + 1):\n",
    "          for bcm_lsb_len in range(bcm_lsb_len_min, bcm_lsb_len_max + 1):\n",
    "            bcm = n_rows * sum((bcm_lsb_len << i) for i in range(0, n_planes))\n",
    "            total = n_rows * sum( (max(bcm_lsb_len << i, n_cols) + 5) for i in range(0, n_planes))\n",
    "            results_array[i] = [freq, n_banks, n_rows, n_cols, n_planes, bcm_lsb_len, bcm / total * 100, freq / total]\n",
    "            i += 1"
   ]
  },
  {
   "cell_type": "markdown",
   "metadata": {},
   "source": [
    "Numpy using float array"
   ]
  },
  {
   "cell_type": "code",
   "execution_count": 14,
   "metadata": {},
   "outputs": [
    {
     "name": "stdout",
     "output_type": "stream",
     "text": [
      "120 µs ± 1.22 µs per loop (mean ± std. dev. of 7 runs, 10000 loops each)\n"
     ]
    }
   ],
   "source": [
    "%%timeit\n",
    "i = 0\n",
    "results_array = np.zeros([(freq_max - freq_min + 1) * \n",
    "                    (n_banks_max - n_banks_min + 1) * \n",
    "                    (n_rows_max - n_rows_min + 1) * \n",
    "                    (n_cols_max - n_cols_min + 1) * \n",
    "                    (n_planes_max - n_planes_min + 1) * \n",
    "                    (bcm_lsb_len_max - bcm_lsb_len_min + 1), 8],\n",
    "                  dtype= np.float64)\n",
    "# print(results)\n",
    "for freq in range(freq_min, freq_max + 1):\n",
    "  for n_banks in range(n_banks_min, n_banks_max + 1):\n",
    "    for n_rows in range(n_rows_min, n_rows_max + 1):\n",
    "      for n_cols in range(n_cols_min, n_cols_max + 1):\n",
    "        for n_planes in range(n_planes_min, n_planes_max + 1):\n",
    "          for bcm_lsb_len in range(bcm_lsb_len_min, bcm_lsb_len_max + 1):\n",
    "            bcm = n_rows * sum((bcm_lsb_len << i) for i in range(0, n_planes))\n",
    "            total = n_rows * sum( (max(bcm_lsb_len << i, n_cols) + 5) for i in range(0, n_planes))\n",
    "            results_array[i] = [freq, n_banks, n_rows, n_cols, n_planes, bcm_lsb_len, bcm / total * 100, freq / total]\n",
    "            i += 1"
   ]
  },
  {
   "cell_type": "markdown",
   "metadata": {},
   "source": [
    "# Conclusion"
   ]
  },
  {
   "cell_type": "markdown",
   "metadata": {},
   "source": [
    "The fastest method is to create the data using the summation equation and then convert to whatever format is most convenient after that. List -> Numpy Array -> Pandas DataFrame seems to be the fastest path but when you convert it to Numpy Array everything becomes the same type so the best way is to go from List -> Pandas DataFrame"
   ]
  },
  {
   "cell_type": "code",
   "execution_count": null,
   "metadata": {},
   "outputs": [],
   "source": []
  }
 ],
 "metadata": {
  "colab": {
   "authorship_tag": "ABX9TyPNM0KgfFGa5MGrW6t6udeb",
   "collapsed_sections": [],
   "name": "Untitled0.ipynb",
   "provenance": []
  },
  "kernelspec": {
   "display_name": "Python 3",
   "language": "python",
   "name": "python3"
  },
  "language_info": {
   "codemirror_mode": {
    "name": "ipython",
    "version": 3
   },
   "file_extension": ".py",
   "mimetype": "text/x-python",
   "name": "python",
   "nbconvert_exporter": "python",
   "pygments_lexer": "ipython3",
   "version": "3.8.8"
  }
 },
 "nbformat": 4,
 "nbformat_minor": 4
}
