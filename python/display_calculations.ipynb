{
 "cells": [
  {
   "cell_type": "code",
   "execution_count": 1,
   "id": "4d8e42ec-0539-4534-818a-6b942e506694",
   "metadata": {},
   "outputs": [],
   "source": [
    "import pandas as pd\n",
    "import matplotlib.pyplot as plt\n",
    "\n",
    "import ipywidgets as widgets\n",
    "\n",
    "%matplotlib widget"
   ]
  },
  {
   "cell_type": "code",
   "execution_count": 2,
   "id": "f8aaf1a1-c27e-4e65-aefb-3211924c68df",
   "metadata": {},
   "outputs": [],
   "source": [
    "freq_min = 25000000\n",
    "freq_max = 25000000\n",
    "\n",
    "n_banks_min = 2\n",
    "n_banks_max = 2\n",
    "\n",
    "n_rows_min = 32\n",
    "n_rows_max = 32\n",
    "\n",
    "n_cols_min = 32\n",
    "n_cols_max = 64*10\n",
    "n_cols_step = 32\n",
    "\n",
    "n_planes_min = 1\n",
    "n_planes_max = 20\n",
    "\n",
    "bcm_lsb_len_min = 0\n",
    "bcm_lsb_len_max = 300\n",
    "\n",
    "overhead = 3"
   ]
  },
  {
   "cell_type": "code",
   "execution_count": 8,
   "id": "6aa7e033-cc28-4417-a640-f04a1b17180e",
   "metadata": {},
   "outputs": [
    {
     "name": "stdout",
     "output_type": "stream",
     "text": [
      "Wall time: 933 ms\n"
     ]
    }
   ],
   "source": [
    "%%time\n",
    "results = []\n",
    "\n",
    "# print(results)\n",
    "for freq in range(freq_min, freq_max + 1):\n",
    "  for n_banks in range(n_banks_min, n_banks_max + 1):\n",
    "    for n_rows in range(n_rows_min, n_rows_max + 1):\n",
    "      for n_cols in range(n_cols_min, n_cols_max + 1, n_cols_step):\n",
    "        for n_planes in range(n_planes_min, n_planes_max + 1):\n",
    "          for bcm_lsb_len in range(bcm_lsb_len_min, bcm_lsb_len_max + 1):\n",
    "            bcm_cycles = n_rows * sum(bcm_lsb_len << i for i in range(0, n_planes))\n",
    "            display_cycles = n_rows * sum(max(bcm_lsb_len << i, n_cols) + overhead for i in range(0, n_planes))\n",
    "            \n",
    "#             bcm_cycles = n_rows * sum(bcm_lsb_len * 2 ** i for i in range(0, n_planes))\n",
    "#             display_cycles = n_rows * sum(max(bcm_lsb_len * 2 ** i, n_cols) + overhead for i in range(0, n_planes))\n",
    "            \n",
    "            results.append([freq, n_banks, n_rows, n_cols, n_planes, bcm_lsb_len, bcm_cycles / display_cycles, freq / display_cycles])\n",
    "\n",
    "results_df = pd.DataFrame(results, columns = ['freq', 'n_banks', 'n_rows', 'n_cols', 'n_planes', 'bcm_lsb_len', 'light_efficiency', 'refresh_rate'])"
   ]
  },
  {
   "cell_type": "code",
   "execution_count": 7,
   "id": "f039e7be-ae34-4073-8692-944f2c318dad",
   "metadata": {},
   "outputs": [
    {
     "data": {
      "application/vnd.jupyter.widget-view+json": {
       "model_id": "490ad4b5ada24293a3f34e1a9f6187af",
       "version_major": 2,
       "version_minor": 0
      },
      "text/plain": [
       "interactive(children=(IntSlider(value=32, description='n_cols', max=640, min=32, step=32), IntSlider(value=8, …"
      ]
     },
     "metadata": {},
     "output_type": "display_data"
    }
   ],
   "source": [
    "@widgets.interact(n_cols=(n_cols_min, n_cols_max, n_cols_step), \n",
    "                  n_planes=(n_planes_min, n_planes_max),\n",
    "                  refresh_rate = (0, 1000),\n",
    "                  light_efficiency = (0, 1, 0.01))\n",
    "\n",
    "def update(n_cols = 32, n_planes = 8, refresh_rate = 100, light_efficiency = 0.5):\n",
    "    display(results_df.loc[(results_df['n_cols'] == n_cols) & (results_df['n_planes'] == n_planes) & (results_df['refresh_rate'] >= refresh_rate) & (results_df['light_efficiency'] >= light_efficiency)].reset_index(drop=True))"
   ]
  },
  {
   "cell_type": "code",
   "execution_count": 5,
   "id": "05f00613-c521-4a75-9e11-690ffbe4bad2",
   "metadata": {},
   "outputs": [
    {
     "data": {
      "application/vnd.jupyter.widget-view+json": {
       "model_id": "1905a3cd9e2641a5aaf0b02b8f101359",
       "version_major": 2,
       "version_minor": 0
      },
      "text/plain": [
       "Canvas(toolbar=Toolbar(toolitems=[('Home', 'Reset original view', 'home', 'home'), ('Back', 'Back to previous …"
      ]
     },
     "metadata": {},
     "output_type": "display_data"
    },
    {
     "data": {
      "application/vnd.jupyter.widget-view+json": {
       "model_id": "fffc1120575a455eb2164be30fa7c66b",
       "version_major": 2,
       "version_minor": 0
      },
      "text/plain": [
       "interactive(children=(IntSlider(value=32, description='n_col', max=640, min=32, step=32), IntSlider(value=8, d…"
      ]
     },
     "metadata": {},
     "output_type": "display_data"
    }
   ],
   "source": [
    "fig, ((ax1, ax2), (ax3, ax4)) = plt.subplots(nrows=2, ncols=2, figsize=(8, 8))\n",
    "fig.subplots_adjust(wspace = 0.3, hspace = 0.3)\n",
    "\n",
    "@widgets.interact(n_col=(n_cols_min, n_cols_max, n_cols_step), \n",
    "                  n_planes=(n_planes_min, n_planes_max),\n",
    "                  bcm_lsb_len = (bcm_lsb_len_min, bcm_lsb_len_max),\n",
    "                  bcm_lsb_len2 = (bcm_lsb_len_min, bcm_lsb_len_max),\n",
    "                  refresh_weight = (0, 1, 0.1))\n",
    "\n",
    "def update(n_col = 32, n_planes = 8, bcm_lsb_len = bcm_lsb_len_max, bcm_lsb_len2 = bcm_lsb_len_max, refresh_weight = 0.5):\n",
    "    # Remove old line from plot\n",
    "    [l.remove() for l in ax1.lines] \n",
    "    [l.remove() for l in ax2.lines] \n",
    "    [l.remove() for l in ax3.lines] \n",
    "    [l.remove() for l in ax4.lines] \n",
    "    \n",
    "    # Filter out lines that won't be graphed\n",
    "    filtered = results_df.loc[(results_df['n_cols'] == n_col) & (results_df['n_planes'] == n_planes) & (results_df['bcm_lsb_len'] <= bcm_lsb_len)].reset_index(drop=True)\n",
    "    \n",
    "    # Calculate weighted percentage of refresh rate and light efficiency\n",
    "    light_weight = 1 - refresh_weight\n",
    "    filtered['percentage'] = (filtered['light_efficiency'] / filtered['light_efficiency'].max() * light_weight) + (filtered['refresh_rate'] / filtered['refresh_rate'].max() * refresh_weight)\n",
    "    \n",
    "    # Calculate and print the optimal bcm_lsb_len and record its refresh_rate and light_efficiency\n",
    "    results = filtered.iloc[filtered['percentage'].idxmax]\n",
    "    print(f\"n_cols:{results['n_cols'] : .0f}\")\n",
    "    print(f\"n_planes:{results['n_planes'] : .0f}\")\n",
    "    print(f\"bcm_lsb_len:{results['bcm_lsb_len'] : .0f}\")\n",
    "    print(f\"refresh_rate:{results['refresh_rate'] : .2f}\")\n",
    "    print(f\"light_efficiency:{results['light_efficiency'] : .4f}\")\n",
    "    \n",
    "    ## Set the x and y limits on the graphs\n",
    "    ax1.set_ylim([0, filtered['refresh_rate'].max() * 1.1])\n",
    "    ax2.set_ylim([0, 1])\n",
    "    ax3.set_ylim([0, 1])\n",
    "    ax4.set_ylim([0, filtered['refresh_rate'].max() * 1.1])\n",
    "    \n",
    "    ax1.set_xlim([0, filtered['bcm_lsb_len'].max()])\n",
    "    ax2.set_xlim([0, filtered['bcm_lsb_len'].max()])\n",
    "    ax3.set_xlim([0, filtered['bcm_lsb_len'].max()])\n",
    "    ax4.set_xlim([0, 1])\n",
    "    \n",
    "    # Set x and y labels\n",
    "    ax1.set_xlabel('bcm_lsb_len')\n",
    "    ax2.set_xlabel('bcm_lsb_len')\n",
    "    ax3.set_xlabel('bcm_lsb_len')\n",
    "    ax4.set_xlabel('light_efficiency')\n",
    "    \n",
    "    ax1.set_ylabel('refresh_rate')\n",
    "    ax2.set_ylabel('light_efficiency')\n",
    "    ax3.set_ylabel('percentage')\n",
    "    ax4.set_ylabel('refresh_rate')\n",
    "\n",
    "    # Plot the graphs\n",
    "    ax1.plot(filtered['bcm_lsb_len'], filtered['refresh_rate'], 'o', color='C0')\n",
    "    ax2.plot(filtered['bcm_lsb_len'], filtered['light_efficiency'], 'o', color='C0')\n",
    "    ax3.plot(filtered['bcm_lsb_len'], filtered['percentage'], 'o', color='C0')\n",
    "    ax4.plot(filtered['light_efficiency'], filtered['refresh_rate'], 'o', color='C0')"
   ]
  },
  {
   "cell_type": "code",
   "execution_count": null,
   "id": "6b13ebfd-91f7-4666-88a2-e1f7acf0a8cf",
   "metadata": {},
   "outputs": [],
   "source": []
  }
 ],
 "metadata": {
  "kernelspec": {
   "display_name": "Python 3",
   "language": "python",
   "name": "python3"
  },
  "language_info": {
   "codemirror_mode": {
    "name": "ipython",
    "version": 3
   },
   "file_extension": ".py",
   "mimetype": "text/x-python",
   "name": "python",
   "nbconvert_exporter": "python",
   "pygments_lexer": "ipython3",
   "version": "3.8.11"
  }
 },
 "nbformat": 4,
 "nbformat_minor": 5
}
