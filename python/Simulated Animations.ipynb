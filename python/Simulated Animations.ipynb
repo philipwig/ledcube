{
 "cells": [
  {
   "cell_type": "code",
   "execution_count": 1,
   "id": "d7edd392-1ad5-48f9-974f-e167cdca57bc",
   "metadata": {},
   "outputs": [],
   "source": [
    "import cv2\n",
    "import numpy as np\n",
    "from cv2 import VideoWriter, VideoWriter_fourcc\n",
    "from IPython.display import Video"
   ]
  },
  {
   "cell_type": "code",
   "execution_count": 18,
   "id": "c603128f-1964-4700-824f-cb2c29a5a5bb",
   "metadata": {},
   "outputs": [],
   "source": [
    "def generate1(n_rows, n_cols, s_factor, file_name, fps, length):\n",
    "\n",
    "    fourcc = VideoWriter_fourcc(*'VP90') #MP42, X264, MP4V\n",
    "    video = VideoWriter(file_name, fourcc, float(fps), (n_cols * s_factor, n_rows * s_factor))\n",
    "    \n",
    "    exe_time = 37 * 0.001 * fps * length\n",
    "    print(f\"Estimated execution time{exe_time : .2f} seconds\")\n",
    "\n",
    "    current_row = 0\n",
    "    current_col = 0\n",
    "\n",
    "    top_line = 0\n",
    "    left_line = 0\n",
    "\n",
    "    for _ in range(fps * length):\n",
    "        # Creating empty frame to put data into\n",
    "        frame = np.zeros((n_rows * s_factor, n_cols * s_factor, 3), dtype=np.uint8)\n",
    "        frame_list = []\n",
    "\n",
    "        if left_line == n_cols / 2 - 1:\n",
    "            left_line = 0\n",
    "            top_line = 0\n",
    "        else:\n",
    "            left_line = left_line + 1\n",
    "            top_line = top_line + 1\n",
    "\n",
    "        for current_row in range(n_rows):\n",
    "            for current_col in range(n_cols):\n",
    "                # VHDL Code\n",
    "                if ((current_col > left_line) and (current_col < n_cols - left_line - 1)):\n",
    "                    if ((current_row == top_line) or (current_row == n_rows - top_line - 1)):\n",
    "                        frame_list.append((0, 255, 0))\n",
    "                    else:\n",
    "                        frame_list.append((0, 0, 0))\n",
    "                elif ((current_row >= top_line) and (current_row <= n_rows - top_line - 1)):\n",
    "                    if ((current_col == left_line) or (current_col == n_cols - left_line - 1)):\n",
    "                        frame_list.append((255, 0, 0))\n",
    "                    else:\n",
    "                        frame_list.append((0, 0, 0))\n",
    "                else:\n",
    "                    frame_list.append((0, 0, 0))\n",
    "\n",
    "\n",
    "\n",
    "        # Upscales resolution\n",
    "        x = 0\n",
    "        y = 0\n",
    "\n",
    "        for pixel in frame_list:\n",
    "            frame[y * s_factor:(y+1) * s_factor, x * s_factor:(x+1)*s_factor] = np.full((s_factor, s_factor, 3), pixel)\n",
    "\n",
    "            if x == n_rows - 1 and y == n_cols - 1:\n",
    "                x = 0\n",
    "                y = 0\n",
    "            elif x == n_cols - 1:\n",
    "                y += 1\n",
    "                x = 0\n",
    "            else:\n",
    "                x += 1\n",
    "\n",
    "        # Writes generated frame to video file\n",
    "        video.write(frame)\n",
    "\n",
    "    # Releases the video file so others can use it\n",
    "    video.release()"
   ]
  },
  {
   "cell_type": "code",
   "execution_count": 24,
   "id": "15f405cd-738d-4a7d-96ea-226d2a86f5d8",
   "metadata": {},
   "outputs": [],
   "source": [
    "def generate2(n_rows, n_cols, s_factor, file_name, fps, length):\n",
    "    \n",
    "    fourcc = VideoWriter_fourcc(*'VP90') #MP42, X264, MP4V\n",
    "    video = VideoWriter(file_name, fourcc, float(fps), (n_cols * s_factor, n_rows * s_factor))\n",
    "    \n",
    "    exe_time = 37 * 0.001 * fps * length\n",
    "    print(f\"Estimated execution time{exe_time : .2f} seconds\")\n",
    "\n",
    "\n",
    "    for _ in range(fps * length):\n",
    "        # Creating empty frame to put data into\n",
    "        frame = np.zeros((n_rows * s_factor, n_cols * s_factor, 3), dtype=np.uint8)\n",
    "        frame_list = []\n",
    "        generating_pattern = True\n",
    "        \n",
    "        current_row = 0\n",
    "        current_col = 0\n",
    "        \n",
    "        top_line = 0\n",
    "        left_line = 0\n",
    "        \n",
    "        while (generating_pattern):\n",
    "            # When write_pixels\n",
    "            if current_row == n_rows - 1 and current_col == n_cols - 1:\n",
    "                generating_pattern = False\n",
    "                \n",
    "                if left_line == n_cols / 2 - 1:\n",
    "                    left_line = 0\n",
    "                    top_line = 0\n",
    "                else:\n",
    "                    left_line = left_line + 1\n",
    "                    top_line = top_line + 1\n",
    "                \n",
    "            if ((current_col > left_line) and (current_col < n_cols - left_line - 1)):\n",
    "                if ((current_row == top_line) or (current_row == n_rows - top_line - 1)):\n",
    "                    frame_list.append((0, 255, 0))\n",
    "                else:\n",
    "                    frame_list.append((0, 0, 0))\n",
    "            elif ((current_row >= top_line) and (current_row <= n_rows - top_line - 1)):\n",
    "                if ((current_col == left_line) or (current_col == n_cols - left_line - 1)):\n",
    "                    frame_list.append((255, 0, 0))\n",
    "                else:\n",
    "                    frame_list.append((0, 0, 0))\n",
    "            else:\n",
    "                frame_list.append((0, 0, 0))\n",
    "    \n",
    "            if current_row == n_rows - 1 and current_col == n_cols - 1:\n",
    "                current_row = 0\n",
    "                current_col = 0\n",
    "            elif current_col == n_cols - 1:\n",
    "                current_row = current_row + 1\n",
    "                current_col = 0\n",
    "            else:\n",
    "                current_col = current_col + 1\n",
    "               \n",
    "        # Upscales resolution\n",
    "        x = 0\n",
    "        y = 0\n",
    "        for pixel in frame_list:\n",
    "            frame[y * s_factor:(y+1) * s_factor, x * s_factor:(x+1)*s_factor] = np.full((s_factor, s_factor, 3), pixel, dtype=np.uint8)\n",
    "    \n",
    "            if x == n_rows - 1 and y == n_cols - 1:\n",
    "                x = 0\n",
    "                y = 0\n",
    "            elif x == n_cols - 1:\n",
    "                y += 1\n",
    "                x = 0\n",
    "            else:\n",
    "                x += 1\n",
    "        \n",
    "        # Writes generated frame to video file\n",
    "        video.write(frame)\n",
    "    \n",
    "    # Releases the video file so others can use it\n",
    "    video.release()"
   ]
  },
  {
   "cell_type": "code",
   "execution_count": 22,
   "id": "4a478952-40d1-4b0e-bad8-4eb5fb274713",
   "metadata": {},
   "outputs": [
    {
     "name": "stdout",
     "output_type": "stream",
     "text": [
      "Estimated execution time 11.10 seconds\n",
      "Wall time: 14.2 s\n"
     ]
    },
    {
     "data": {
      "text/html": [
       "<video src=\"./output1.mp4\" autoplay loop  >\n",
       "      Your browser does not support the <code>video</code> element.\n",
       "    </video>"
      ],
      "text/plain": [
       "<IPython.core.display.Video object>"
      ]
     },
     "execution_count": 22,
     "metadata": {},
     "output_type": "execute_result"
    }
   ],
   "source": [
    "%%time\n",
    "generate1(64, 64, 10, \"output1.mp4\", 60, 5)\n",
    "Video(\"./output1.mp4\", html_attributes=\"autoplay loop\")"
   ]
  },
  {
   "cell_type": "code",
   "execution_count": 25,
   "id": "9cbb2773-a54b-4d74-8223-4c4ae6bcbe82",
   "metadata": {},
   "outputs": [
    {
     "name": "stdout",
     "output_type": "stream",
     "text": [
      "Estimated execution time 11.10 seconds\n",
      "Wall time: 13.5 s\n"
     ]
    },
    {
     "data": {
      "text/html": [
       "<video src=\"./output2.mp4\" autoplay loop  >\n",
       "      Your browser does not support the <code>video</code> element.\n",
       "    </video>"
      ],
      "text/plain": [
       "<IPython.core.display.Video object>"
      ]
     },
     "execution_count": 25,
     "metadata": {},
     "output_type": "execute_result"
    }
   ],
   "source": [
    "%%time\n",
    "generate2(64, 64, 10, \"output2.mp4\", 60, 5)\n",
    "Video(\"./output2.mp4\", html_attributes=\"autoplay loop\")"
   ]
  },
  {
   "cell_type": "code",
   "execution_count": null,
   "id": "04277d12-531e-4900-9ac6-42146b071eba",
   "metadata": {},
   "outputs": [],
   "source": []
  }
 ],
 "metadata": {
  "kernelspec": {
   "display_name": "Python 3",
   "language": "python",
   "name": "python3"
  },
  "language_info": {
   "codemirror_mode": {
    "name": "ipython",
    "version": 3
   },
   "file_extension": ".py",
   "mimetype": "text/x-python",
   "name": "python",
   "nbconvert_exporter": "python",
   "pygments_lexer": "ipython3",
   "version": "3.8.11"
  }
 },
 "nbformat": 4,
 "nbformat_minor": 5
}
